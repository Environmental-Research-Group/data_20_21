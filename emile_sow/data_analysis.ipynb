{
 "cells": [
  {
   "cell_type": "code",
   "execution_count": 2,
   "metadata": {},
   "outputs": [],
   "source": [
    "# importing each time section as dataframes with indices starting from 0\n",
    "import pandas as pd\n",
    "part1 = pd.read_csv(\"part1\").drop(\"Unnamed: 0\", 1)\n",
    "part2 = pd.read_csv(\"part2\").drop(\"Unnamed: 0\", 1)\n",
    "part3 = pd.read_csv(\"part3\").drop(\"Unnamed: 0\", 1)"
   ]
  },
  {
   "cell_type": "code",
   "execution_count": 3,
   "metadata": {},
   "outputs": [],
   "source": [
    "# creating series for percent difference between time sections, for each row\n",
    "d1 = ((part3[\"rides\"] - part1[\"rides\"]) / part1[\"rides\"]) * 100\n",
    "d2 = ((part3[\"rides\"] - part2[\"rides\"]) / part2[\"rides\"]) * 100\n",
    "d3 = ((part2[\"rides\"] - part1[\"rides\"]) / part1[\"rides\"]) * 100"
   ]
  },
  {
   "cell_type": "code",
   "execution_count": 4,
   "metadata": {},
   "outputs": [],
   "source": [
    "df1 = part3.copy()\n",
    "df1[\"rides\"] = d1\n",
    "df2 = part3.copy()\n",
    "df2[\"rides\"] = d2"
   ]
  },
  {
   "cell_type": "code",
   "execution_count": 24,
   "metadata": {},
   "outputs": [
    {
     "data": {
      "text/plain": [
       "<matplotlib.axes._subplots.AxesSubplot at 0x1f06e0c7940>"
      ]
     },
     "execution_count": 24,
     "metadata": {},
     "output_type": "execute_result"
    },
    {
     "data": {
      "image/png": "[encoded data removed]",
      "text/plain": [
       "<Figure size 432x288 with 1 Axes>"
      ]
     },
     "metadata": {
      "needs_background": "light"
     },
     "output_type": "display_data"
    }
   ],
   "source": [
    "d1.plot.box()"
   ]
  },
  {
   "cell_type": "code",
   "execution_count": 26,
   "metadata": {},
   "outputs": [
    {
     "data": {
      "text/plain": [
       "count     13863.000000\n",
       "mean        120.469161\n",
       "std        6867.648736\n",
       "min        -100.000000\n",
       "25%         -85.602494\n",
       "50%         -64.982646\n",
       "75%         -12.833731\n",
       "max      770700.000000\n",
       "Name: rides, dtype: float64"
      ]
     },
     "execution_count": 26,
     "metadata": {},
     "output_type": "execute_result"
    }
   ],
   "source": [
    "d1.describe()"
   ]
  },
  {
   "cell_type": "code",
   "execution_count": 33,
   "metadata": {},
   "outputs": [
    {
     "data": {
      "text/plain": [
       "rides    1183.704865\n",
       "Name: 0.99, dtype: float64"
      ]
     },
     "execution_count": 33,
     "metadata": {},
     "output_type": "execute_result"
    }
   ],
   "source": [
    "df1.quantile(q = 0.99)"
   ]
  }
 ],
 "metadata": {
  "kernelspec": {
   "display_name": "Python 3",
   "language": "python",
   "name": "python3"
  },
  "language_info": {
   "codemirror_mode": {
    "name": "ipython",
    "version": 3
   },
   "file_extension": ".py",
   "mimetype": "text/x-python",
   "name": "python",
   "nbconvert_exporter": "python",
   "pygments_lexer": "ipython3",
   "version": "3.8.3"
  }
 },
 "nbformat": 4,
 "nbformat_minor": 4
}
