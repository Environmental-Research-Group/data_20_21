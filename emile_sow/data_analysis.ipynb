{
 "cells": [
  {
   "cell_type": "code",
   "execution_count": 57,
   "metadata": {},
   "outputs": [],
   "source": [
    "# importing each time section as dataframes with indices starting from 0\n",
    "import pandas as pd\n",
    "part1 = pd.read_csv(\"part1\").drop(\"Unnamed: 0\", 1)\n",
    "part2 = pd.read_csv(\"part2\").drop(\"Unnamed: 0\", 1)\n",
    "part3 = pd.read_csv(\"part3\").drop(\"Unnamed: 0\", 1)"
   ]
  },
  {
   "cell_type": "code",
   "execution_count": 58,
   "metadata": {},
   "outputs": [],
   "source": [
    "# creating series for percent difference between time sections\n",
    "d1 = ((part3[\"rides\"] - part1[\"rides\"]) / part1[\"rides\"]) * 100\n",
    "d2 = ((part3[\"rides\"] - part2[\"rides\"]) / part2[\"rides\"]) * 100\n",
    "d3 = ((part2[\"rides\"] - part1[\"rides\"]) / part1[\"rides\"]) * 100"
   ]
  },
  {
   "cell_type": "code",
   "execution_count": 60,
   "metadata": {},
   "outputs": [
    {
     "data": {
      "text/plain": [
       "(0    14.622642\n",
       " 1     7.918782\n",
       " 2     4.654812\n",
       " 3    -1.681100\n",
       " 4    -6.125828\n",
       " Name: rides, dtype: float64,\n",
       " 0    11.467890\n",
       " 1     7.918782\n",
       " 2     1.316456\n",
       " 3    -2.770781\n",
       " 4   -10.661765\n",
       " Name: rides, dtype: float64)"
      ]
     },
     "execution_count": 60,
     "metadata": {},
     "output_type": "execute_result"
    }
   ],
   "source": [
    "d1.head(), d2.head()"
   ]
  }
 ],
 "metadata": {
  "kernelspec": {
   "display_name": "Python 3",
   "language": "python",
   "name": "python3"
  },
  "language_info": {
   "codemirror_mode": {
    "name": "ipython",
    "version": 3
   },
   "file_extension": ".py",
   "mimetype": "text/x-python",
   "name": "python",
   "nbconvert_exporter": "python",
   "pygments_lexer": "ipython3",
   "version": "3.8.3"
  }
 },
 "nbformat": 4,
 "nbformat_minor": 4
}
