{
 "cells": [
  {
   "cell_type": "code",
   "execution_count": 1,
   "metadata": {},
   "outputs": [],
   "source": [
    "import pandas as pd\n",
    "df = pd.read_csv('https://query.data.world/s/tyd3jsb3c6fz4za5hboqkzqe5kk32b')"
   ]
  },
  {
   "cell_type": "code",
   "execution_count": 3,
   "metadata": {},
   "outputs": [
    {
     "data": {
      "text/html": [
       "<div>\n",
       "<style scoped>\n",
       "    .dataframe tbody tr th:only-of-type {\n",
       "        vertical-align: middle;\n",
       "    }\n",
       "\n",
       "    .dataframe tbody tr th {\n",
       "        vertical-align: top;\n",
       "    }\n",
       "\n",
       "    .dataframe thead th {\n",
       "        text-align: right;\n",
       "    }\n",
       "</style>\n",
       "<table border=\"1\" class=\"dataframe\">\n",
       "  <thead>\n",
       "    <tr style=\"text-align: right;\">\n",
       "      <th></th>\n",
       "      <th>route</th>\n",
       "      <th>routename</th>\n",
       "      <th>Month_Beginning</th>\n",
       "      <th>Avg_Weekday_Rides</th>\n",
       "      <th>Avg_Saturday_Rides</th>\n",
       "      <th>Avg_Sunday-Holiday_Rides</th>\n",
       "      <th>MonthTotal</th>\n",
       "    </tr>\n",
       "  </thead>\n",
       "  <tbody>\n",
       "    <tr>\n",
       "      <th>0</th>\n",
       "      <td>1</td>\n",
       "      <td>Indiana/Hyde Park</td>\n",
       "      <td>01/01/2001</td>\n",
       "      <td>6982.6</td>\n",
       "      <td>0.0</td>\n",
       "      <td>0.0</td>\n",
       "      <td>153617</td>\n",
       "    </tr>\n",
       "    <tr>\n",
       "      <th>1</th>\n",
       "      <td>2</td>\n",
       "      <td>Hyde Park Express</td>\n",
       "      <td>01/01/2001</td>\n",
       "      <td>1000.0</td>\n",
       "      <td>0.0</td>\n",
       "      <td>0.0</td>\n",
       "      <td>22001</td>\n",
       "    </tr>\n",
       "    <tr>\n",
       "      <th>2</th>\n",
       "      <td>3</td>\n",
       "      <td>King Drive</td>\n",
       "      <td>01/01/2001</td>\n",
       "      <td>21406.5</td>\n",
       "      <td>13210.7</td>\n",
       "      <td>8725.3</td>\n",
       "      <td>567413</td>\n",
       "    </tr>\n",
       "    <tr>\n",
       "      <th>3</th>\n",
       "      <td>4</td>\n",
       "      <td>Cottage Grove</td>\n",
       "      <td>01/01/2001</td>\n",
       "      <td>22432.2</td>\n",
       "      <td>17994.0</td>\n",
       "      <td>10662.2</td>\n",
       "      <td>618796</td>\n",
       "    </tr>\n",
       "    <tr>\n",
       "      <th>4</th>\n",
       "      <td>6</td>\n",
       "      <td>Jackson Park Express</td>\n",
       "      <td>01/01/2001</td>\n",
       "      <td>18443.0</td>\n",
       "      <td>13088.2</td>\n",
       "      <td>7165.6</td>\n",
       "      <td>493926</td>\n",
       "    </tr>\n",
       "  </tbody>\n",
       "</table>\n",
       "</div>"
      ],
      "text/plain": [
       "  route             routename Month_Beginning  Avg_Weekday_Rides  \\\n",
       "0     1     Indiana/Hyde Park      01/01/2001             6982.6   \n",
       "1     2     Hyde Park Express      01/01/2001             1000.0   \n",
       "2     3            King Drive      01/01/2001            21406.5   \n",
       "3     4         Cottage Grove      01/01/2001            22432.2   \n",
       "4     6  Jackson Park Express      01/01/2001            18443.0   \n",
       "\n",
       "   Avg_Saturday_Rides  Avg_Sunday-Holiday_Rides  MonthTotal  \n",
       "0                 0.0                       0.0      153617  \n",
       "1                 0.0                       0.0       22001  \n",
       "2             13210.7                    8725.3      567413  \n",
       "3             17994.0                   10662.2      618796  \n",
       "4             13088.2                    7165.6      493926  "
      ]
     },
     "execution_count": 3,
     "metadata": {},
     "output_type": "execute_result"
    }
   ],
   "source": [
    "df.head()"
   ]
  },
  {
   "cell_type": "code",
   "execution_count": 8,
   "metadata": {},
   "outputs": [],
   "source": [
    "# most recent data\n",
    "data1809 = df[df.Month_Beginning == '09/01/2018']"
   ]
  },
  {
   "cell_type": "code",
   "execution_count": 9,
   "metadata": {},
   "outputs": [
    {
     "data": {
      "text/html": [
       "<div>\n",
       "<style scoped>\n",
       "    .dataframe tbody tr th:only-of-type {\n",
       "        vertical-align: middle;\n",
       "    }\n",
       "\n",
       "    .dataframe tbody tr th {\n",
       "        vertical-align: top;\n",
       "    }\n",
       "\n",
       "    .dataframe thead th {\n",
       "        text-align: right;\n",
       "    }\n",
       "</style>\n",
       "<table border=\"1\" class=\"dataframe\">\n",
       "  <thead>\n",
       "    <tr style=\"text-align: right;\">\n",
       "      <th></th>\n",
       "      <th>route</th>\n",
       "      <th>routename</th>\n",
       "      <th>Month_Beginning</th>\n",
       "      <th>Avg_Weekday_Rides</th>\n",
       "      <th>Avg_Saturday_Rides</th>\n",
       "      <th>Avg_Sunday-Holiday_Rides</th>\n",
       "      <th>MonthTotal</th>\n",
       "    </tr>\n",
       "  </thead>\n",
       "  <tbody>\n",
       "    <tr>\n",
       "      <th>29412</th>\n",
       "      <td>1001</td>\n",
       "      <td>Shuttle/Special Event Route</td>\n",
       "      <td>09/01/2018</td>\n",
       "      <td>73.3</td>\n",
       "      <td>164.6</td>\n",
       "      <td>202.7</td>\n",
       "      <td>3432</td>\n",
       "    </tr>\n",
       "    <tr>\n",
       "      <th>29413</th>\n",
       "      <td>206</td>\n",
       "      <td>Evanston Circulator</td>\n",
       "      <td>09/01/2018</td>\n",
       "      <td>729.3</td>\n",
       "      <td>0.0</td>\n",
       "      <td>0.0</td>\n",
       "      <td>13856</td>\n",
       "    </tr>\n",
       "    <tr>\n",
       "      <th>29414</th>\n",
       "      <td>201</td>\n",
       "      <td>Central/Ridge</td>\n",
       "      <td>09/01/2018</td>\n",
       "      <td>2021.3</td>\n",
       "      <td>1167.0</td>\n",
       "      <td>0.0</td>\n",
       "      <td>44240</td>\n",
       "    </tr>\n",
       "    <tr>\n",
       "      <th>29415</th>\n",
       "      <td>192</td>\n",
       "      <td>U. of Chicago Hospitals Express</td>\n",
       "      <td>09/01/2018</td>\n",
       "      <td>853.0</td>\n",
       "      <td>0.0</td>\n",
       "      <td>0.0</td>\n",
       "      <td>16207</td>\n",
       "    </tr>\n",
       "    <tr>\n",
       "      <th>29416</th>\n",
       "      <td>172</td>\n",
       "      <td>U. of Chicago/Kenwood</td>\n",
       "      <td>09/01/2018</td>\n",
       "      <td>1485.7</td>\n",
       "      <td>331.6</td>\n",
       "      <td>283.5</td>\n",
       "      <td>31255</td>\n",
       "    </tr>\n",
       "  </tbody>\n",
       "</table>\n",
       "</div>"
      ],
      "text/plain": [
       "      route                        routename Month_Beginning  \\\n",
       "29412  1001      Shuttle/Special Event Route      09/01/2018   \n",
       "29413   206              Evanston Circulator      09/01/2018   \n",
       "29414   201                    Central/Ridge      09/01/2018   \n",
       "29415   192  U. of Chicago Hospitals Express      09/01/2018   \n",
       "29416   172            U. of Chicago/Kenwood      09/01/2018   \n",
       "\n",
       "       Avg_Weekday_Rides  Avg_Saturday_Rides  Avg_Sunday-Holiday_Rides  \\\n",
       "29412               73.3               164.6                     202.7   \n",
       "29413              729.3                 0.0                       0.0   \n",
       "29414             2021.3              1167.0                       0.0   \n",
       "29415              853.0                 0.0                       0.0   \n",
       "29416             1485.7               331.6                     283.5   \n",
       "\n",
       "       MonthTotal  \n",
       "29412        3432  \n",
       "29413       13856  \n",
       "29414       44240  \n",
       "29415       16207  \n",
       "29416       31255  "
      ]
     },
     "execution_count": 9,
     "metadata": {},
     "output_type": "execute_result"
    }
   ],
   "source": [
    "data1809.head()"
   ]
  },
  {
   "cell_type": "code",
   "execution_count": 11,
   "metadata": {},
   "outputs": [],
   "source": [
    "data1808 = df[df.Month_Beginning == '08/01/2018']"
   ]
  },
  {
   "cell_type": "code",
   "execution_count": 12,
   "metadata": {},
   "outputs": [
    {
     "data": {
      "text/html": [
       "<div>\n",
       "<style scoped>\n",
       "    .dataframe tbody tr th:only-of-type {\n",
       "        vertical-align: middle;\n",
       "    }\n",
       "\n",
       "    .dataframe tbody tr th {\n",
       "        vertical-align: top;\n",
       "    }\n",
       "\n",
       "    .dataframe thead th {\n",
       "        text-align: right;\n",
       "    }\n",
       "</style>\n",
       "<table border=\"1\" class=\"dataframe\">\n",
       "  <thead>\n",
       "    <tr style=\"text-align: right;\">\n",
       "      <th></th>\n",
       "      <th>route</th>\n",
       "      <th>routename</th>\n",
       "      <th>Month_Beginning</th>\n",
       "      <th>Avg_Weekday_Rides</th>\n",
       "      <th>Avg_Saturday_Rides</th>\n",
       "      <th>Avg_Sunday-Holiday_Rides</th>\n",
       "      <th>MonthTotal</th>\n",
       "    </tr>\n",
       "  </thead>\n",
       "  <tbody>\n",
       "    <tr>\n",
       "      <th>29281</th>\n",
       "      <td>1001</td>\n",
       "      <td>Shuttle/Special Event Route</td>\n",
       "      <td>08/01/2018</td>\n",
       "      <td>70.6</td>\n",
       "      <td>328.3</td>\n",
       "      <td>76.8</td>\n",
       "      <td>3244</td>\n",
       "    </tr>\n",
       "    <tr>\n",
       "      <th>29282</th>\n",
       "      <td>206</td>\n",
       "      <td>Evanston Circulator</td>\n",
       "      <td>08/01/2018</td>\n",
       "      <td>256.7</td>\n",
       "      <td>0.0</td>\n",
       "      <td>0.0</td>\n",
       "      <td>5905</td>\n",
       "    </tr>\n",
       "    <tr>\n",
       "      <th>29283</th>\n",
       "      <td>205</td>\n",
       "      <td>Chicago/Golf</td>\n",
       "      <td>08/01/2018</td>\n",
       "      <td>634.6</td>\n",
       "      <td>0.0</td>\n",
       "      <td>0.0</td>\n",
       "      <td>14596</td>\n",
       "    </tr>\n",
       "    <tr>\n",
       "      <th>29284</th>\n",
       "      <td>201</td>\n",
       "      <td>Central/Ridge</td>\n",
       "      <td>08/01/2018</td>\n",
       "      <td>1608.8</td>\n",
       "      <td>974.0</td>\n",
       "      <td>0.0</td>\n",
       "      <td>40899</td>\n",
       "    </tr>\n",
       "    <tr>\n",
       "      <th>29285</th>\n",
       "      <td>192</td>\n",
       "      <td>U. of Chicago Hospitals Express</td>\n",
       "      <td>08/01/2018</td>\n",
       "      <td>758.6</td>\n",
       "      <td>0.0</td>\n",
       "      <td>0.0</td>\n",
       "      <td>17448</td>\n",
       "    </tr>\n",
       "  </tbody>\n",
       "</table>\n",
       "</div>"
      ],
      "text/plain": [
       "      route                        routename Month_Beginning  \\\n",
       "29281  1001      Shuttle/Special Event Route      08/01/2018   \n",
       "29282   206              Evanston Circulator      08/01/2018   \n",
       "29283   205                     Chicago/Golf      08/01/2018   \n",
       "29284   201                    Central/Ridge      08/01/2018   \n",
       "29285   192  U. of Chicago Hospitals Express      08/01/2018   \n",
       "\n",
       "       Avg_Weekday_Rides  Avg_Saturday_Rides  Avg_Sunday-Holiday_Rides  \\\n",
       "29281               70.6               328.3                      76.8   \n",
       "29282              256.7                 0.0                       0.0   \n",
       "29283              634.6                 0.0                       0.0   \n",
       "29284             1608.8               974.0                       0.0   \n",
       "29285              758.6                 0.0                       0.0   \n",
       "\n",
       "       MonthTotal  \n",
       "29281        3244  \n",
       "29282        5905  \n",
       "29283       14596  \n",
       "29284       40899  \n",
       "29285       17448  "
      ]
     },
     "execution_count": 12,
     "metadata": {},
     "output_type": "execute_result"
    }
   ],
   "source": [
    "data1808.head()"
   ]
  },
  {
   "cell_type": "code",
   "execution_count": 30,
   "metadata": {},
   "outputs": [],
   "source": [
    "#https://data.cityofchicago.org/Transportation/CTA-Ridership-Bus-Routes-Monthly-Day-Type-Averages/bynn-gwxy\n",
    " #   https://www.transitchicago.com/data/\n",
    "        "
   ]
  },
  {
   "cell_type": "code",
   "execution_count": null,
   "metadata": {},
   "outputs": [],
   "source": []
  },
  {
   "cell_type": "code",
   "execution_count": 20,
   "metadata": {},
   "outputs": [
    {
     "data": {
      "text/html": [
       "<div>\n",
       "<style scoped>\n",
       "    .dataframe tbody tr th:only-of-type {\n",
       "        vertical-align: middle;\n",
       "    }\n",
       "\n",
       "    .dataframe tbody tr th {\n",
       "        vertical-align: top;\n",
       "    }\n",
       "\n",
       "    .dataframe thead th {\n",
       "        text-align: right;\n",
       "    }\n",
       "</style>\n",
       "<table border=\"1\" class=\"dataframe\">\n",
       "  <thead>\n",
       "    <tr style=\"text-align: right;\">\n",
       "      <th></th>\n",
       "      <th>rides</th>\n",
       "    </tr>\n",
       "  </thead>\n",
       "  <tbody>\n",
       "    <tr>\n",
       "      <th>count</th>\n",
       "      <td>866074.000000</td>\n",
       "    </tr>\n",
       "    <tr>\n",
       "      <th>mean</th>\n",
       "      <td>6418.507987</td>\n",
       "    </tr>\n",
       "    <tr>\n",
       "      <th>std</th>\n",
       "      <td>6414.548143</td>\n",
       "    </tr>\n",
       "    <tr>\n",
       "      <th>min</th>\n",
       "      <td>0.000000</td>\n",
       "    </tr>\n",
       "    <tr>\n",
       "      <th>25%</th>\n",
       "      <td>1437.000000</td>\n",
       "    </tr>\n",
       "    <tr>\n",
       "      <th>50%</th>\n",
       "      <td>4100.000000</td>\n",
       "    </tr>\n",
       "    <tr>\n",
       "      <th>75%</th>\n",
       "      <td>9729.000000</td>\n",
       "    </tr>\n",
       "    <tr>\n",
       "      <th>max</th>\n",
       "      <td>45177.000000</td>\n",
       "    </tr>\n",
       "  </tbody>\n",
       "</table>\n",
       "</div>"
      ],
      "text/plain": [
       "               rides\n",
       "count  866074.000000\n",
       "mean     6418.507987\n",
       "std      6414.548143\n",
       "min         0.000000\n",
       "25%      1437.000000\n",
       "50%      4100.000000\n",
       "75%      9729.000000\n",
       "max     45177.000000"
      ]
     },
     "execution_count": 20,
     "metadata": {},
     "output_type": "execute_result"
    }
   ],
   "source": [
    "# \n",
    "full_data = pd.read_csv(\"CTA_-_Ridership_-_Bus_Routes_-_Daily_Totals_by_Route.csv\")\n",
    "full_data.describe()"
   ]
  },
  {
   "cell_type": "code",
   "execution_count": 21,
   "metadata": {},
   "outputs": [
    {
     "data": {
      "text/html": [
       "<div>\n",
       "<style scoped>\n",
       "    .dataframe tbody tr th:only-of-type {\n",
       "        vertical-align: middle;\n",
       "    }\n",
       "\n",
       "    .dataframe tbody tr th {\n",
       "        vertical-align: top;\n",
       "    }\n",
       "\n",
       "    .dataframe thead th {\n",
       "        text-align: right;\n",
       "    }\n",
       "</style>\n",
       "<table border=\"1\" class=\"dataframe\">\n",
       "  <thead>\n",
       "    <tr style=\"text-align: right;\">\n",
       "      <th></th>\n",
       "      <th>route</th>\n",
       "      <th>date</th>\n",
       "      <th>daytype</th>\n",
       "      <th>rides</th>\n",
       "    </tr>\n",
       "  </thead>\n",
       "  <tbody>\n",
       "    <tr>\n",
       "      <th>0</th>\n",
       "      <td>3</td>\n",
       "      <td>01/01/2001</td>\n",
       "      <td>U</td>\n",
       "      <td>7354</td>\n",
       "    </tr>\n",
       "    <tr>\n",
       "      <th>1</th>\n",
       "      <td>4</td>\n",
       "      <td>01/01/2001</td>\n",
       "      <td>U</td>\n",
       "      <td>9288</td>\n",
       "    </tr>\n",
       "    <tr>\n",
       "      <th>2</th>\n",
       "      <td>6</td>\n",
       "      <td>01/01/2001</td>\n",
       "      <td>U</td>\n",
       "      <td>6048</td>\n",
       "    </tr>\n",
       "    <tr>\n",
       "      <th>3</th>\n",
       "      <td>8</td>\n",
       "      <td>01/01/2001</td>\n",
       "      <td>U</td>\n",
       "      <td>6309</td>\n",
       "    </tr>\n",
       "    <tr>\n",
       "      <th>4</th>\n",
       "      <td>9</td>\n",
       "      <td>01/01/2001</td>\n",
       "      <td>U</td>\n",
       "      <td>11207</td>\n",
       "    </tr>\n",
       "  </tbody>\n",
       "</table>\n",
       "</div>"
      ],
      "text/plain": [
       "  route        date daytype  rides\n",
       "0     3  01/01/2001       U   7354\n",
       "1     4  01/01/2001       U   9288\n",
       "2     6  01/01/2001       U   6048\n",
       "3     8  01/01/2001       U   6309\n",
       "4     9  01/01/2001       U  11207"
      ]
     },
     "execution_count": 21,
     "metadata": {},
     "output_type": "execute_result"
    }
   ],
   "source": [
    "full_data.head()"
   ]
  },
  {
   "cell_type": "code",
   "execution_count": 27,
   "metadata": {},
   "outputs": [],
   "source": [
    "# cutting the data down into segments from March 2019 to June 2019, Nov 2019 to end of Feb 2020, etc.\n",
    "full_data[\"date\"] = pd.to_datetime(full_data[\"date\"])\n",
    "copy = full_data.copy()\n",
    "m19_start = pd.to_datetime(\"03/01/2019\")\n",
    "j19_end = pd.to_datetime(\"06/30/2019\")\n",
    "m20_start = pd.to_datetime(\"03/01/2020\")\n",
    "j20_end = pd.to_datetime(\"06/30/2020\")\n",
    "\n",
    "copypt3 = full_data[full_data[\"date\"] <= j19_end]\n",
    "copypt4 = full_data[full_data[\"date\"] >= m19_start]\n",
    "\n",
    "normal_year = copypt3[copypt3[\"date\"].isin(copypt4[\"date\"])] # The March-June 2019 set\n",
    "\n",
    "covid_year = full_data[full_data[\"date\"] >= m20_start] # March 2020 - June 2020"
   ]
  },
  {
   "cell_type": "code",
   "execution_count": 28,
   "metadata": {},
   "outputs": [
    {
     "data": {
      "text/html": [
       "<div>\n",
       "<style scoped>\n",
       "    .dataframe tbody tr th:only-of-type {\n",
       "        vertical-align: middle;\n",
       "    }\n",
       "\n",
       "    .dataframe tbody tr th {\n",
       "        vertical-align: top;\n",
       "    }\n",
       "\n",
       "    .dataframe thead th {\n",
       "        text-align: right;\n",
       "    }\n",
       "</style>\n",
       "<table border=\"1\" class=\"dataframe\">\n",
       "  <thead>\n",
       "    <tr style=\"text-align: right;\">\n",
       "      <th></th>\n",
       "      <th>rides</th>\n",
       "    </tr>\n",
       "  </thead>\n",
       "  <tbody>\n",
       "    <tr>\n",
       "      <th>count</th>\n",
       "      <td>13968.000000</td>\n",
       "    </tr>\n",
       "    <tr>\n",
       "      <th>mean</th>\n",
       "      <td>5771.108319</td>\n",
       "    </tr>\n",
       "    <tr>\n",
       "      <th>std</th>\n",
       "      <td>5278.719749</td>\n",
       "    </tr>\n",
       "    <tr>\n",
       "      <th>min</th>\n",
       "      <td>1.000000</td>\n",
       "    </tr>\n",
       "    <tr>\n",
       "      <th>25%</th>\n",
       "      <td>1465.000000</td>\n",
       "    </tr>\n",
       "    <tr>\n",
       "      <th>50%</th>\n",
       "      <td>4032.000000</td>\n",
       "    </tr>\n",
       "    <tr>\n",
       "      <th>75%</th>\n",
       "      <td>8978.250000</td>\n",
       "    </tr>\n",
       "    <tr>\n",
       "      <th>max</th>\n",
       "      <td>25533.000000</td>\n",
       "    </tr>\n",
       "  </tbody>\n",
       "</table>\n",
       "</div>"
      ],
      "text/plain": [
       "              rides\n",
       "count  13968.000000\n",
       "mean    5771.108319\n",
       "std     5278.719749\n",
       "min        1.000000\n",
       "25%     1465.000000\n",
       "50%     4032.000000\n",
       "75%     8978.250000\n",
       "max    25533.000000"
      ]
     },
     "execution_count": 28,
     "metadata": {},
     "output_type": "execute_result"
    }
   ],
   "source": [
    "normal_year.describe()"
   ]
  },
  {
   "cell_type": "code",
   "execution_count": 29,
   "metadata": {},
   "outputs": [
    {
     "data": {
      "text/html": [
       "<div>\n",
       "<style scoped>\n",
       "    .dataframe tbody tr th:only-of-type {\n",
       "        vertical-align: middle;\n",
       "    }\n",
       "\n",
       "    .dataframe tbody tr th {\n",
       "        vertical-align: top;\n",
       "    }\n",
       "\n",
       "    .dataframe thead th {\n",
       "        text-align: right;\n",
       "    }\n",
       "</style>\n",
       "<table border=\"1\" class=\"dataframe\">\n",
       "  <thead>\n",
       "    <tr style=\"text-align: right;\">\n",
       "      <th></th>\n",
       "      <th>rides</th>\n",
       "    </tr>\n",
       "  </thead>\n",
       "  <tbody>\n",
       "    <tr>\n",
       "      <th>count</th>\n",
       "      <td>13863.000000</td>\n",
       "    </tr>\n",
       "    <tr>\n",
       "      <th>mean</th>\n",
       "      <td>2386.650509</td>\n",
       "    </tr>\n",
       "    <tr>\n",
       "      <th>std</th>\n",
       "      <td>2915.598135</td>\n",
       "    </tr>\n",
       "    <tr>\n",
       "      <th>min</th>\n",
       "      <td>0.000000</td>\n",
       "    </tr>\n",
       "    <tr>\n",
       "      <th>25%</th>\n",
       "      <td>383.000000</td>\n",
       "    </tr>\n",
       "    <tr>\n",
       "      <th>50%</th>\n",
       "      <td>1417.000000</td>\n",
       "    </tr>\n",
       "    <tr>\n",
       "      <th>75%</th>\n",
       "      <td>3260.000000</td>\n",
       "    </tr>\n",
       "    <tr>\n",
       "      <th>max</th>\n",
       "      <td>24707.000000</td>\n",
       "    </tr>\n",
       "  </tbody>\n",
       "</table>\n",
       "</div>"
      ],
      "text/plain": [
       "              rides\n",
       "count  13863.000000\n",
       "mean    2386.650509\n",
       "std     2915.598135\n",
       "min        0.000000\n",
       "25%      383.000000\n",
       "50%     1417.000000\n",
       "75%     3260.000000\n",
       "max    24707.000000"
      ]
     },
     "execution_count": 29,
     "metadata": {},
     "output_type": "execute_result"
    }
   ],
   "source": [
    "covid_year.describe()"
   ]
  },
  {
   "cell_type": "code",
   "execution_count": 31,
   "metadata": {},
   "outputs": [],
   "source": [
    "boxplot = covid_year.boxplot(by='route',layout=(2, 1))"
   ]
  },
  {
   "cell_type": "code",
   "execution_count": 32,
   "metadata": {},
   "outputs": [
    {
     "data": {
      "text/plain": [
       "array([<matplotlib.axes._subplots.AxesSubplot object at 0x117fdb198>,\n",
       "       <matplotlib.axes._subplots.AxesSubplot object at 0x118c31dd8>],\n",
       "      dtype=object)"
      ]
     },
     "execution_count": 32,
     "metadata": {},
     "output_type": "execute_result"
    }
   ],
   "source": [
    "boxplot"
   ]
  },
  {
   "cell_type": "code",
   "execution_count": 36,
   "metadata": {},
   "outputs": [
    {
     "data": {
      "text/plain": [
       "<matplotlib.axes._subplots.AxesSubplot at 0x1251fc9e8>"
      ]
     },
     "execution_count": 36,
     "metadata": {},
     "output_type": "execute_result"
    },
    {
     "data": {
      "image/png": "[encoded data removed]",
      "text/plain": [
       "<Figure size 432x288 with 1 Axes>"
      ]
     },
     "metadata": {
      "needs_background": "light"
     },
     "output_type": "display_data"
    }
   ],
   "source": [
    "import seaborn as sns\n",
    "\n",
    "sns.boxplot(x=\"route\", y=\"rides\", hue=\"route\", data=covid_year, palette=\"Set1\")"
   ]
  },
  {
   "cell_type": "code",
   "execution_count": 41,
   "metadata": {},
   "outputs": [
    {
     "data": {
      "text/plain": [
       "array(['1', '100', '1001', '103', '106', '108', '11', '111', '111A',\n",
       "       '112', '115', '119', '12', '120', '121', '124', '125', '126',\n",
       "       '134', '135', '136', '143', '146', '147', '148', '15', '151',\n",
       "       '152', '155', '156', '157', '165', '169', '171', '172', '18', '19',\n",
       "       '192', '2', '20', '201', '206', '21', '22', '24', '26', '28', '29',\n",
       "       '3', '30', '31', '34', '35', '36', '37', '39', '4', '43', '44',\n",
       "       '47', '48', '49', '49B', '5', '50', '51', '52', '52A', '53', '53A',\n",
       "       '54', '54A', '54B', '55', '55A', '55N', '56', '57', '59', '6',\n",
       "       '60', '62', '62H', '63', '63W', '65', '66', '67', '68', '7', '70',\n",
       "       '71', '72', '73', '74', '75', '76', '77', '78', '79', '8', '80',\n",
       "       '81', '81W', '82', '84', '85', '85A', '86', '87', '88', '8A', '9',\n",
       "       '90', '91', '92', '93', '94', '95', '96', '97', 'J14', 'X49', 'X9',\n",
       "       'X98', '992'], dtype=object)"
      ]
     },
     "execution_count": 41,
     "metadata": {},
     "output_type": "execute_result"
    }
   ],
   "source": [
    "covid_year['route'].unique() "
   ]
  },
  {
   "cell_type": "code",
   "execution_count": 43,
   "metadata": {},
   "outputs": [
    {
     "data": {
      "text/plain": [
       "array(['1', '100', '1001', '103', '106', '108', '11', '111', '111A',\n",
       "       '112', '115', '119', '12', '120', '121', '124', '125', '126',\n",
       "       '134', '135', '136', '143', '146', '147', '148', '15', '151',\n",
       "       '152', '155', '156', '157', '165', '169', '171', '172', '18', '19',\n",
       "       '192', '2', '20', '201', '206', '21', '22', '24', '26', '28', '29',\n",
       "       '3', '30', '31', '34', '35', '36', '37', '39', '4', '43', '44',\n",
       "       '47', '48', '49', '49B', '5', '50', '51', '52', '52A', '53', '53A',\n",
       "       '54', '54A', '54B', '55', '55A', '55N', '56', '57', '59', '6',\n",
       "       '60', '62', '62H', '63', '63W', '65', '66', '67', '68', '7', '70',\n",
       "       '71', '72', '73', '74', '75', '76', '77', '78', '79', '8', '80',\n",
       "       '81', '81W', '82', '84', '85', '85A', '86', '87', '88', '8A', '9',\n",
       "       '90', '91', '92', '93', '94', '95', '96', '97', 'J14', 'X49', 'X9',\n",
       "       'X98', '10', '130'], dtype=object)"
      ]
     },
     "execution_count": 43,
     "metadata": {},
     "output_type": "execute_result"
    }
   ],
   "source": [
    "normal_year['route'].unique() "
   ]
  },
  {
   "cell_type": "markdown",
   "metadata": {},
   "source": [
    "NOTE: normal years have 10 and 130, covid doesn't have, but instead they have a new route: 992"
   ]
  },
  {
   "cell_type": "code",
   "execution_count": null,
   "metadata": {},
   "outputs": [],
   "source": []
  }
 ],
 "metadata": {
  "kernelspec": {
   "display_name": "Python 3",
   "language": "python",
   "name": "python3"
  },
  "language_info": {
   "codemirror_mode": {
    "name": "ipython",
    "version": 3
   },
   "file_extension": ".py",
   "mimetype": "text/x-python",
   "name": "python",
   "nbconvert_exporter": "python",
   "pygments_lexer": "ipython3",
   "version": "3.7.3"
  }
 },
 "nbformat": 4,
 "nbformat_minor": 2
}
